{
 "cells": [
  {
   "cell_type": "code",
   "execution_count": 42,
   "metadata": {},
   "outputs": [],
   "source": [
    "from PIL import Image\n",
    "import numpy as np\n",
    "import matplotlib.pyplot as plt\n",
    "import matplotlib.image as mpimg\n",
    "import matplotlib\n",
    "from matplotlib import cm"
   ]
  },
  {
   "cell_type": "code",
   "execution_count": 43,
   "metadata": {},
   "outputs": [],
   "source": [
    "HEIGHT = 256\n",
    "WIDTH = 256\n",
    "BITS = 3"
   ]
  },
  {
   "cell_type": "code",
   "execution_count": 44,
   "metadata": {},
   "outputs": [],
   "source": [
    "def encode(cover_name, hidden_name, output_name):\n",
    "    \n",
    "    cover_pix = np.array(Image.open(cover_name))\n",
    "    hidden_pix = np.array(Image.open(hidden_name))\n",
    "    \n",
    "    for x in range(WIDTH):\n",
    "        for y in range(HEIGHT):\n",
    "            cover_R = '{0:08b}'.format(cover_pix[x][y][0])\n",
    "            cover_G = '{0:08b}'.format(cover_pix[x][y][1])\n",
    "            cover_B = '{0:08b}'.format(cover_pix[x][y][2])\n",
    "            hidden_R = '{0:08b}'.format(hidden_pix[x][y][0])\n",
    "            hidden_G = '{0:08b}'.format(hidden_pix[x][y][1])\n",
    "            hidden_B = '{0:08b}'.format(hidden_pix[x][y][2])\n",
    "            output_R = int(cover_R[:5] + hidden_R[:3], 2) \n",
    "            output_G = int(cover_G[:5] + hidden_G[:3], 2) \n",
    "            output_B = int(cover_B[:5] + hidden_B[:3], 2) \n",
    "            cover_pix[x][y] = [output_R, output_G, output_B]\n",
    "    np.save(\"raw_data\", cover_pix)\n",
    "    i = Image.fromarray(cover_pix)\n",
    "    i.save(output_name)"
   ]
  },
  {
   "cell_type": "code",
   "execution_count": 45,
   "metadata": {},
   "outputs": [],
   "source": [
    "def decode(covered_name, output_name):\n",
    "    working_tmp = np.load(\"raw_data.npy\")\n",
    "    working = np.uint8(working_tmp)\n",
    "    output_image = np.empty((HEIGHT, WIDTH, 3))\n",
    "    for x in range(WIDTH):\n",
    "        for y in range(HEIGHT):\n",
    "            covered_R = '{0:08b}'.format(int(working[x][y][0]))\n",
    "            recoverd_R = covered_R[5:] + '00000'\n",
    "            covered_G = '{0:08b}'.format(int(working[x][y][1]))\n",
    "            recoverd_G = covered_G[5:] + '00000'\n",
    "            covered_B = '{0:08b}'.format(int(working[x][y][2]))\n",
    "            recoverd_B = covered_B[5:] + '00000'\n",
    "            output_R = int(recoverd_R, 2) \n",
    "            output_G = int(recoverd_G, 2) \n",
    "            output_B = int(recoverd_B, 2) \n",
    "            working[x][y] = [output_R, output_G, output_B]\n",
    "    i = Image.fromarray(working)\n",
    "    i.save(output_name)"
   ]
  },
  {
   "cell_type": "code",
   "execution_count": 46,
   "metadata": {
    "scrolled": true
   },
   "outputs": [
    {
     "name": "stdout",
     "output_type": "stream",
     "text": [
      "103 103 71\n",
      "(256, 256, 3)\n"
     ]
    }
   ],
   "source": [
    "in_1 = encode(\"cover.jpg\", \"hidden.jpg\", \"george_cover.jpg\")"
   ]
  },
  {
   "cell_type": "code",
   "execution_count": 47,
   "metadata": {
    "scrolled": false
   },
   "outputs": [
    {
     "name": "stdout",
     "output_type": "stream",
     "text": [
      "(256, 256, 3)\n",
      "103 103 71\n"
     ]
    }
   ],
   "source": [
    "in_2 = decode(\"george_cover.jpg\", \"george_uncovered.jpg\")"
   ]
  },
  {
   "cell_type": "code",
   "execution_count": null,
   "metadata": {},
   "outputs": [],
   "source": []
  },
  {
   "cell_type": "code",
   "execution_count": null,
   "metadata": {},
   "outputs": [],
   "source": []
  }
 ],
 "metadata": {
  "kernelspec": {
   "display_name": "Python 3",
   "language": "python",
   "name": "python3"
  },
  "language_info": {
   "codemirror_mode": {
    "name": "ipython",
    "version": 3
   },
   "file_extension": ".py",
   "mimetype": "text/x-python",
   "name": "python",
   "nbconvert_exporter": "python",
   "pygments_lexer": "ipython3",
   "version": "3.7.4"
  }
 },
 "nbformat": 4,
 "nbformat_minor": 4
}
