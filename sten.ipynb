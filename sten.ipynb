{
 "cells": [
  {
   "cell_type": "code",
   "execution_count": 7,
   "metadata": {},
   "outputs": [],
   "source": [
    "from PIL import Image\n",
    "import numpy as np\n",
    "import matplotlib.pyplot as plt\n",
    "import matplotlib.image as mpimg\n",
    "import matplotlib\n",
    "from matplotlib import cm"
   ]
  },
  {
   "cell_type": "code",
   "execution_count": 8,
   "metadata": {},
   "outputs": [],
   "source": [
    "HEIGHT = 256\n",
    "WIDTH = 256"
   ]
  },
  {
   "cell_type": "code",
   "execution_count": 9,
   "metadata": {},
   "outputs": [],
   "source": [
    "def encode(cover_name, hidden_name, output_name):\n",
    "    cover_pix = mpimg.imread(cover_name)\n",
    "    hidden_pix = mpimg.imread(hidden_name)\n",
    "    output_image = np.empty((HEIGHT, WIDTH, 3))\n",
    "    for x in range(WIDTH):\n",
    "        for y in range(HEIGHT):\n",
    "            cover_R = '{0:08b}'.format(cover_pix[x][y][0])\n",
    "            cover_G = '{0:08b}'.format(cover_pix[x][y][1])\n",
    "            cover_B = '{0:08b}'.format(cover_pix[x][y][2])\n",
    "            hidden_R = '{0:08b}'.format(hidden_pix[x][y][0])\n",
    "            hidden_G = '{0:08b}'.format(hidden_pix[x][y][1])\n",
    "            hidden_B = '{0:08b}'.format(hidden_pix[x][y][2])\n",
    "            output_R = int(cover_R[:5] + hidden_R[:3], 2) / 255.0\n",
    "            output_G = int(cover_G[:5] + hidden_G[:3], 2) / 255.0\n",
    "            output_B = int(cover_B[:5] + hidden_B[:3], 2) / 255.0\n",
    "            output_image[x][y] = [output_R, output_G, output_B]\n",
    "    matplotlib.image.imsave(output_name, output_image)\n",
    "    return output_image"
   ]
  },
  {
   "cell_type": "code",
   "execution_count": 10,
   "metadata": {},
   "outputs": [],
   "source": [
    "def decode(hidden_name, output_name):\n",
    "    hidden_pix = mpimg.imread(hidden_name)\n",
    "    output_image = np.empty((HEIGHT, WIDTH, 3))\n",
    "    for x in range(WIDTH):\n",
    "        for y in range(HEIGHT):\n",
    "            hidden_R = '{0:08b}'.format(int(hidden_pix[x][y][0]))\n",
    "            recoverd_R = hidden_R[5:] + '00000'\n",
    "            hidden_G = '{0:08b}'.format(int(hidden_pix[x][y][1]))\n",
    "            recoverd_G = hidden_G[5:] + '00000'\n",
    "            hidden_B = '{0:08b}'.format(int(hidden_pix[x][y][2]))\n",
    "            recoverd_B = hidden_B[5:] + '00000'\n",
    "            output_R = int(recoverd_R, 2) / 255.0\n",
    "            output_G = int(recoverd_G, 2) / 255.0\n",
    "            output_B = int(recoverd_B, 2) / 255.0\n",
    "            output_image[x][y] = [output_R, output_G, output_B]\n",
    "    matplotlib.image.imsave(output_name, output_image)\n",
    "    return hidden_pix"
   ]
  },
  {
   "cell_type": "code",
   "execution_count": 11,
   "metadata": {
    "scrolled": true
   },
   "outputs": [],
   "source": [
    "in_1 = encode(\"cover.jpg\", \"hidden.jpg\", \"covered.jpg\")"
   ]
  },
  {
   "cell_type": "code",
   "execution_count": 12,
   "metadata": {
    "scrolled": true
   },
   "outputs": [],
   "source": [
    "in_2 = decode(\"covered.jpg\", \"uncovered.jpg\")"
   ]
  }
 ],
 "metadata": {
  "kernelspec": {
   "display_name": "Python 3",
   "language": "python",
   "name": "python3"
  },
  "language_info": {
   "codemirror_mode": {
    "name": "ipython",
    "version": 3
   },
   "file_extension": ".py",
   "mimetype": "text/x-python",
   "name": "python",
   "nbconvert_exporter": "python",
   "pygments_lexer": "ipython3",
   "version": "3.7.6"
  }
 },
 "nbformat": 4,
 "nbformat_minor": 4
}
