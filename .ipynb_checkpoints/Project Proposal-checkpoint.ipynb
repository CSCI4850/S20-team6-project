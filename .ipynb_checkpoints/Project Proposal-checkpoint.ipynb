{
 "cells": [
  {
   "cell_type": "markdown",
   "metadata": {},
   "source": [
    "# Team 6 (GIG) Project Proposal - Cycle GANs to Break Ciphers (Steganography)\n",
    "\n",
    "    1. George Boktor \n",
    "    2. Nibraas Khan\n",
    "    3. Ruj Haan\n",
    "    4. Michael McComas\n",
    "    5. Ramin Daneshi\n",
    "    6. Brandon Swenson"
   ]
  },
  {
   "cell_type": "markdown",
   "metadata": {},
   "source": [
    "        Steganography (covered or concealed writing) is the practice of hiding information such as files, messages, images, and videos within other files, messages, images, and videos. The main attraction of Steganography is the ability to hide information without drawing attention to itself (unlike most Ciphers which are clearly Ciphers). There are two-layer to this type of concealment, hiding the fact that a message is being sent and the message itself. The change in the images is so subtle that someone who is not looking for the changes will not notice anything. "
   ]
  },
  {
   "cell_type": "markdown",
   "metadata": {},
   "source": [
    "<img src=\"files/example_of_hiding.png\">"
   ]
  },
  {
   "cell_type": "markdown",
   "metadata": {},
   "source": [
    "         The image above shows an example of hiding an image within another image while not being very obvious. With the use of some Steganography algorithm, the image of the cat is hidden in the cover image while maintaining its original look. From this example, it is seen that the changes in the image are so subtle, that the only way to notice the change is to actively search for it. "
   ]
  },
  {
   "cell_type": "markdown",
   "metadata": {},
   "source": [
    "        Our goal is to try to crack Steganography algorithms. By that, we want to be able to look at an image that contains hidden information and extract it. For the purpose of this project, the information hidden within an image will be text. So our model will be able to look at the images with hidden information and extract it. With the learned distribution (of the Steganography algorithm), it will be able to decode the information hidden in the image. "
   ]
  },
  {
   "cell_type": "markdown",
   "metadata": {},
   "source": [
    "        There are many ways to learn the distribution, but we choose to implement Cycle Generative Adversarial Networks. This network works by using unordered sets to perform supervised learning. To understand how all the neural networks work within the model, consider the image below."
   ]
  },
  {
   "cell_type": "markdown",
   "metadata": {},
   "source": [
    "<img src=\"files/flow_of_gan.png\">"
   ]
  },
  {
   "cell_type": "markdown",
   "metadata": {},
   "source": [
    "        By training our gan to understand the mapping from the hidden image to the message and the message back up to the hidden image, we will be able to crack Steganography algorithms. Currently, we plan on solving the task when the hidden message is text, but there should not be a lot of complications to adapt the model to solve problems for other hidden information. "
   ]
  },
  {
   "cell_type": "markdown",
   "metadata": {},
   "source": [
    "        Does your project have a specific or focused aim (or set of aims)? (3 points)\n",
    "        \n",
    "            The aim of our project along with the steps are:\n",
    "                1. Create a Steganography algorithm to learn and test on - our team must develop a way to take an image and\n",
    "                   by changing the intensity of a few of the pixel values in the image, encode a message. All without\n",
    "                   changing the image in a way that gives away something wrong with the image.\n",
    "                2. Generate the data set by passing images into the Steganography algorithm \n",
    "                3. Using the data created in step 2, train a CycleGAN (potentially just a GAN) to crack the algorithm - our\n",
    "                   team must develop a network capable of reading in our custom input, interpreting the intensity of the\n",
    "                   image pixels, and decoding the encrypted message.\n",
    "                4. Once we are able to crack a simple Steganography algorithm, we will build more complex Steganography\n",
    "                   algorithms and try to crack them using the same techniques"
   ]
  },
  {
   "cell_type": "markdown",
   "metadata": {},
   "source": [
    "        Does your proposal exposit the specific role that neural networks will play in the project? (2 points)\n",
    "        \n",
    "                Our model will contain a total of 4 neural networks. There will be two generator and two discriminators.\n",
    "            The networks will work together as shown in the CycleGAN example image above to solve for the distribution of\n",
    "            the Steganography algorithm. "
   ]
  },
  {
   "cell_type": "markdown",
   "metadata": {},
   "source": [
    "        Does your project have a specific set of data (or data sets) identified? (4 points)\n",
    "        \n",
    "                    The data that our model will be trained on will be generated by us. We will have a Steganography\n",
    "                algorithm that takes in an image and hides text within it. Using that algorithm, we will generate all the\n",
    "                data that we need to train and test the model. "
   ]
  },
  {
   "cell_type": "markdown",
   "metadata": {},
   "source": [
    "        Does your proposal describe a verifiable testing protocol? In order words, did you describe a set of specific tests\n",
    "        that you could run for collecting data and/or statistics which can discriminate between success or failure at\n",
    "        meeting the specific aim of the project in both a quantitative and qualitative manner? (4 points)\n",
    "        \n",
    "                To test the success of our model, we will give it images with hidden text, and if the model is able to\n",
    "            extract the text with a degree of accuracy, it will be considered accurate. With the kind of data and networks\n",
    "            that we are working with, there will be noise. To deal with the noise, we will see just how close to the\n",
    "            decrypted text is to the encoded text with some freedom. "
   ]
  },
  {
   "cell_type": "code",
   "execution_count": null,
   "metadata": {},
   "outputs": [],
   "source": []
  }
 ],
 "metadata": {
  "kernelspec": {
   "display_name": "Python 3",
   "language": "python",
   "name": "python3"
  },
  "language_info": {
   "codemirror_mode": {
    "name": "ipython",
    "version": 3
   },
   "file_extension": ".py",
   "mimetype": "text/x-python",
   "name": "python",
   "nbconvert_exporter": "python",
   "pygments_lexer": "ipython3",
   "version": "3.7.6"
  }
 },
 "nbformat": 4,
 "nbformat_minor": 4
}
