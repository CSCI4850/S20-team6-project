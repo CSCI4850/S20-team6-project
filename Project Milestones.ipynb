{
 "cells": [
  {
   "cell_type": "markdown",
   "metadata": {},
   "source": [
    "# Project Milestones - 2\n",
    "## Members:\n",
    "    1. George Boktor \n",
    "    2. Nibraas Khan\n",
    "    3. Ruj Haan\n",
    "    4. Michael McComas\n",
    "    5. Ramin Daneshi\n",
    "    6. Brandon Swenson"
   ]
  },
  {
   "cell_type": "markdown",
   "metadata": {},
   "source": [
    "### Milestone table"
   ]
  },
  {
   "cell_type": "markdown",
   "metadata": {},
   "source": [
    "| Deliverable | Percent Complete | Estimated Completion Date | Percent Complete by Next Milestone |\n",
    "| --- | --- | --- | --- |\n",
    "| Code | 30% | Apr 17 | 50% |\n",
    "| Paper | 10% | Apr 24 | 30% |\n",
    "| Demo | 0% | May 1 | 5% |\n",
    "| Presentation | 0% | May 5 | 10% |"
   ]
  },
  {
   "cell_type": "markdown",
   "metadata": {},
   "source": [
    "### 1. What deliverable goals established in the last milestone report were accomplished to the anticipated percentage?\n",
    "\n",
    "The code for the pre-processing our images through the stentagrophy algorithm was completed, and everyone completed the tutorials for CycleGAN. A branch was created for the paper and work has started on it."
   ]
  },
  {
   "cell_type": "markdown",
   "metadata": {},
   "source": [
    "### 2. What deliverable goals established in the last milestone report were not accomplished to the anticipated percentage?\n",
    "\n",
    "The code for the main CycleGAN algorithm has not been completely laid out. While a major chunk of the algorithm is done, we have not incorporated out stenography algorithm into the CycleGAN."
   ]
  },
  {
   "cell_type": "markdown",
   "metadata": {},
   "source": [
    "### 3. What are the main deliverable goals to meet before the next milestone report, and who is working on them?\n",
    "\n",
    "We are now working on getting all the images preprocessed, optimization techniques, and the paper.\n",
    "\n",
    "- George Boktor - Working on getting all the images preprocessed\n",
    "- Nibraas Khan - Working on the paper\n",
    "- Ruj Haan - Working on Bayesian Optimization\n",
    "- Michael McComas - Working through CycleGANs\n",
    "- Ramin Daneshi - Working on getting all the images preprocessed\n",
    "- Brandon Swenson - "
   ]
  }
 ],
 "metadata": {
  "kernelspec": {
   "display_name": "Python 3",
   "language": "python",
   "name": "python3"
  },
  "language_info": {
   "codemirror_mode": {
    "name": "ipython",
    "version": 3
   },
   "file_extension": ".py",
   "mimetype": "text/x-python",
   "name": "python",
   "nbconvert_exporter": "python",
   "pygments_lexer": "ipython3",
   "version": "3.7.6"
  }
 },
 "nbformat": 4,
 "nbformat_minor": 4
}
