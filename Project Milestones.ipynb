{
 "cells": [
  {
   "cell_type": "markdown",
   "metadata": {},
   "source": [
    "# Project Milestones - 3\n",
    "## Members:\n",
    "    1. George Boktor \n",
    "    2. Nibraas Khan\n",
    "    3. Ruj Haan\n",
    "    4. Michael McComas\n",
    "    5. Ramin Daneshi\n",
    "    6. Brandon Swenson"
   ]
  },
  {
   "cell_type": "markdown",
   "metadata": {},
   "source": [
    "### Milestone table"
   ]
  },
  {
   "cell_type": "markdown",
   "metadata": {},
   "source": [
    "| Deliverable | Percent Complete | Estimated Completion Date | Percent Complete by Next Milestone |\n",
    "| --- | --- | --- | --- |\n",
    "| Code | 30% | Apr 17 | 50% |\n",
    "| Paper | 25% | Apr 24 | 40% |\n",
    "| Demo | 0% | May 1 | 5% |\n",
    "| Presentation | 0% | May 5 | 10% |"
   ]
  },
  {
   "cell_type": "markdown",
   "metadata": {},
   "source": [
    "### 1. What deliverable goals established in the last milestone report were accomplished to the anticipated percentage?\n",
    "\n",
    "Most of the members of the team have the CycleGAN algorithm working with the stenagraphy algorithm. We also put work into the Abstract, Introduction, Background, and Methods for the paper. "
   ]
  },
  {
   "cell_type": "markdown",
   "metadata": {},
   "source": [
    "### 2. What deliverable goals established in the last milestone report were not accomplished to the anticipated percentage?\n",
    "\n",
    "While we did add to our paper, we were not able to complete as much of the paper as we wanted to. "
   ]
  },
  {
   "cell_type": "markdown",
   "metadata": {},
   "source": [
    "### 3. What are the main deliverable goals to meet before the next milestone report, and who is working on them?\n",
    "\n",
    "We are now working on getting all the training our algorithm, different techniques, and the paper.\n",
    "\n",
    "- George Boktor - Working on the abstract and introduction of the paper\n",
    "- Nibraas Khan - Working on the methods of the paper and implementing autoencoders to solve this same problem for comparison\n",
    "- Ruj Haan - Working on Bayesian Optimization for the CycleGAN algorithm\n",
    "- Michael McComas - Working through CycleGANs and the introduction and background of the paper\n",
    "- Ramin Daneshi - Working on implementing CycleGANs and introduction of the paper\n",
    "- Brandon Swenson - "
   ]
  }
 ],
 "metadata": {
  "kernelspec": {
   "display_name": "Python 3",
   "language": "python",
   "name": "python3"
  },
  "language_info": {
   "codemirror_mode": {
    "name": "ipython",
    "version": 3
   },
   "file_extension": ".py",
   "mimetype": "text/x-python",
   "name": "python",
   "nbconvert_exporter": "python",
   "pygments_lexer": "ipython3",
   "version": "3.7.6"
  }
 },
 "nbformat": 4,
 "nbformat_minor": 4
}
