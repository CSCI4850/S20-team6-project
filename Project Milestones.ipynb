{
 "cells": [
  {
   "cell_type": "markdown",
   "metadata": {},
   "source": [
    "# Project Milestones - 4\n",
    "## Members:\n",
    "    1. George Boktor \n",
    "    2. Nibraas Khan\n",
    "    3. Ruj Haan\n",
    "    4. Michael McComas\n",
    "    5. Ramin Daneshi\n",
    "    6. Brandon Swenson"
   ]
  },
  {
   "cell_type": "markdown",
   "metadata": {},
   "source": [
    "### Milestone table"
   ]
  },
  {
   "cell_type": "markdown",
   "metadata": {},
   "source": [
    "| Deliverable | Percent Complete | Estimated Completion Date | Percent Complete by Next Milestone |\n",
    "| --- | --- | --- | --- |\n",
    "| Code | 100% | Apr 17 | 0% |\n",
    "| Paper | 100% | Apr 24 | 0% |\n",
    "| Demo | 0% | May 7 | 5% |\n",
    "| Presentation | 0% | May 7 | 10% |"
   ]
  },
  {
   "cell_type": "markdown",
   "metadata": {},
   "source": [
    "### 1. What deliverable goals established in the last milestone report were accomplished to the anticipated percentage?\n",
    "\n",
    "Our team was able to complete the entire codebase for the CycleGAN project. Along with this, we were able to complete all sections of our paper."
   ]
  },
  {
   "cell_type": "markdown",
   "metadata": {},
   "source": [
    "### 2. What deliverable goals established in the last milestone report were not accomplished to the anticipated percentage?\n",
    "\n",
    "We were not able to work on the demo or the presentation as much as we wanted to. "
   ]
  },
  {
   "cell_type": "markdown",
   "metadata": {},
   "source": [
    "### 3. What are the main deliverable goals to meet before the next milestone report, and who is working on them?\n",
    "\n",
    "We are now working on getting all the training our algorithm, different techniques, and the paper.\n",
    "\n",
    "- George Boktor - Worked on the Background of the paper\n",
    "- Nibraas Khan - Collected images and worked on Abstract and Methods\n",
    "- Ruj Haan - Generated best values with Baysian Optimization and worked on Results\n",
    "- Michael McComas - Worked on the Introduction of the paper\n",
    "- Ramin Daneshi - Worked on the Discussion and Conclusion of the paper\n",
    "- Brandon Swenson - "
   ]
  },
  {
   "cell_type": "code",
   "execution_count": null,
   "metadata": {},
   "outputs": [],
   "source": []
  }
 ],
 "metadata": {
  "kernelspec": {
   "display_name": "Python 3",
   "language": "python",
   "name": "python3"
  },
  "language_info": {
   "codemirror_mode": {
    "name": "ipython",
    "version": 3
   },
   "file_extension": ".py",
   "mimetype": "text/x-python",
   "name": "python",
   "nbconvert_exporter": "python",
   "pygments_lexer": "ipython3",
   "version": "3.7.6"
  }
 },
 "nbformat": 4,
 "nbformat_minor": 4
}
