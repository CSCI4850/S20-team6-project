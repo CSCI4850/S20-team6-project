{
 "cells": [
  {
   "cell_type": "raw",
   "metadata": {},
   "source": [
    "% PACKAGES INCLUDED HERE \n",
    "% DO NOT NEED TO CHANGE\n",
    "\\documentclass[conference]{IEEEtran}\n",
    "%\\IEEEoverridecommandlockouts\n",
    "% The preceding line is only needed to identify funding in the first footnote. If that is unneeded, please comment it out.\n",
    "\\usepackage{cite}\n",
    "\\usepackage{amsmath,amssymb,amsfonts}\n",
    "\\usepackage{algorithmic}\n",
    "\\usepackage{graphicx}\n",
    "\\usepackage{textcomp}\n",
    "\\def\\BibTeX{{\\rm B\\kern-.05em{\\sc i\\kern-.025em b}\\kern-.08em\n",
    "    T\\kern-.1667em\\lower.7ex\\hbox{E}\\kern-.125emX}}\n",
    "\\begin{document}"
   ]
  },
  {
   "cell_type": "raw",
   "metadata": {},
   "source": [
    "% TITLE GOES HERE\n",
    "\n",
    "\\title{Paper Title*\\\\}\n"
   ]
  },
  {
   "cell_type": "raw",
   "metadata": {},
   "source": [
    "% AUTHOR NAMES GOES HERE\n",
    "\n",
    "\\author{\\IEEEauthorblockN{1\\textsuperscript{st} Given Name Surname}\n",
    "\\IEEEauthorblockA{\\textit{dept. name of organization (of Aff.)} \\\\\n",
    "\\textit{name of organization (of Aff.)}\\\\\n",
    "City, Country \\\\\n",
    "email address}\n",
    "\\and\n",
    "\\IEEEauthorblockN{2\\textsuperscript{nd} Given Name Surname}\n",
    "\\IEEEauthorblockA{\\textit{dept. name of organization (of Aff.)} \\\\\n",
    "\\textit{name of organization (of Aff.)}\\\\\n",
    "City, Country \\\\\n",
    "email address}\n",
    "\\and\n",
    "\\IEEEauthorblockN{3\\textsuperscript{rd} Given Name Surname}\n",
    "\\IEEEauthorblockA{\\textit{dept. name of organization (of Aff.)} \\\\\n",
    "\\textit{name of organization (of Aff.)}\\\\\n",
    "City, Country \\\\\n",
    "email address}\n",
    "\\and\n",
    "\\IEEEauthorblockN{4\\textsuperscript{th} Given Name Surname}\n",
    "\\IEEEauthorblockA{\\textit{dept. name of organization (of Aff.)} \\\\\n",
    "\\textit{name of organization (of Aff.)}\\\\\n",
    "City, Country \\\\\n",
    "email address}\n",
    "\\and\n",
    "\\IEEEauthorblockN{5\\textsuperscript{th} Given Name Surname}\n",
    "\\IEEEauthorblockA{\\textit{dept. name of organization (of Aff.)} \\\\\n",
    "\\textit{name of organization (of Aff.)}\\\\\n",
    "City, Country \\\\\n",
    "email address}\n",
    "\\and\n",
    "\\IEEEauthorblockN{6\\textsuperscript{th} Given Name Surname}\n",
    "\\IEEEauthorblockA{\\textit{dept. name of organization (of Aff.)} \\\\\n",
    "\\textit{name of organization (of Aff.)}\\\\\n",
    "City, Country \\\\\n",
    "email address}\n",
    "}\n",
    "\n",
    "\\maketitle"
   ]
  },
  {
   "cell_type": "raw",
   "metadata": {},
   "source": [
    "% ABSTRACT \n",
    "\n",
    "\\begin{abstract}\n",
    "This document is a model and instructions for \\LaTeX.\n",
    "This and the IEEEtran.cls file define the components of your paper [title, text, heads, etc.]. *CRITICAL: Do Not Use Symbols, Special Characters, Footnotes, \n",
    "or Math in Paper Title or Abstract.\n",
    "\\end{abstract}\n"
   ]
  },
  {
   "cell_type": "raw",
   "metadata": {},
   "source": [
    "% KEYWORDS\n",
    "\n",
    "\\begin{IEEEkeywords}\n",
    "component, formatting, style, styling, insert\n",
    "\\end{IEEEkeywords}"
   ]
  },
  {
   "cell_type": "raw",
   "metadata": {},
   "source": [
    "% INTRODUCTION SECTION\n",
    "\\section{Introduction}\n",
    "\n",
    "Start typing here \\cite{b1}."
   ]
  },
  {
   "cell_type": "raw",
   "metadata": {},
   "source": [
    "% BACKGROUND SECTION\n",
    "\\section{Background}\n",
    "\n",
    "Start typing here \\cite{b2}."
   ]
  },
  {
   "cell_type": "raw",
   "metadata": {},
   "source": [
    "% METHODS SECTION\n",
    "\\section{Methods}\n",
    "\n",
    "Start typing here \\cite{b3}."
   ]
  },
  {
   "cell_type": "raw",
   "metadata": {},
   "source": [
    "% RESULTS SECTION\n",
    "\\section{Results}\n",
    "\n",
    "Start typing here \\cite{b4}."
   ]
  },
  {
   "cell_type": "raw",
   "metadata": {},
   "source": [
    "% DISCUSSION SECTION\n",
    "\\section{Discussion}\n",
    "Steganography is the art concealing a message within another message. In this case, images are being used as our messages. There is a high level of difficulty when attempting to crack a steganography algorithm when the method used to encoded is not initially given to you. Because of this, many institutions use steganography due to its robustness and cacpacity of data that can be hidden. Steganography can also be used maliciously, such as hiding malware wthin a link that releases a virus when the user clicks on it. In order to decrypt the hidden images within the cover images in this project, a cycleGAN is used, which is a common archecture used in image generation. CycleGANs include a generator and discriminator model, which are used to generate the images and decipher whether those images are real or generated, repectively. The cycleGAN in this project takes and encoded image (one image hidden in another image) and deciphers what the hidden image is within the cover image. The images were encrypted by taking the least significant RGB bits in the cover image and swapping them with the most significant RGB bits in the hidden image. Various RGB bit values (7-3 bits) were used when encrypting the images. The methodology discussed in this paper should be taken into consideration because of possibility and success. The method used within this paper to decode the hidden images is successful to a certain extent. It successfully decodes the hidden images when passed in a training set of images encoded with constant bit value, such as encoding them using 7 bits, for example. After training, it succesfully decodes images that were encoded using the same number of bits that were used during training, but it was not very accurate when decoding images that were encoded with a number of bits that were not used during training. However, when the training images alter the number of bits that are being swapped throughout training, the model has a more difficult time decoding images that use a various number of swapped bits during testing. Therefore, it becomes overall less effective when it is trained on a various number of swapped bits between the encoded images. However, there are extra tasks that could be employed that could potentially increase the accuracy of this model when a various number of swapped bits are used within the encoded images, such as using an encoding algorithm that does not rely on RGB bit swapping, using different architectures, such as long short-term memory, regression, or convolutional neural networks, for example. These architectures may have performed better when training on encoded images within a various number of RGB bits swapped, and it could also yield imporved accuracy when decoding those images during testing when compared to a cycleGAN. However, our model presents many fruitful avenues of research within the field of encyrption and decryption, and in this case, image encryption and decryption. This model proves the possibility of image encryption and decryption and can be expanded upon with further research.\n",
    "Start typing here \\cite{b5}."
   ]
  },
  {
   "cell_type": "raw",
   "metadata": {},
   "source": [
    "% REFERENCES\n",
    "% THIS IS CREATED AUTOMATICALLY\n",
    "\\bibliographystyle{IEEEtran}\n",
    "\\bibliography{References} % change if another name is used for References file"
   ]
  },
  {
   "cell_type": "raw",
   "metadata": {},
   "source": [
    "\\end{document}"
   ]
  }
 ],
 "metadata": {
  "kernelspec": {
   "display_name": "Python 3",
   "language": "python",
   "name": "python3"
  },
  "language_info": {
   "codemirror_mode": {
    "name": "ipython",
    "version": 3
   },
   "file_extension": ".py",
   "mimetype": "text/x-python",
   "name": "python",
   "nbconvert_exporter": "python",
   "pygments_lexer": "ipython3",
   "version": "3.7.6"
  }
 },
 "nbformat": 4,
 "nbformat_minor": 4
}
