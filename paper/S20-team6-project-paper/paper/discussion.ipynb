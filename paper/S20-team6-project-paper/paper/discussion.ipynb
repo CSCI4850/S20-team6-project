{
 "cells": [
  {
   "cell_type": "raw",
   "metadata": {},
   "source": [
    "% PACKAGES INCLUDED HERE \n",
    "% DO NOT NEED TO CHANGE\n",
    "\\documentclass[conference]{IEEEtran}\n",
    "%\\IEEEoverridecommandlockouts\n",
    "% The preceding line is only needed to identify funding in the first footnote. If that is unneeded, please comment it out.\n",
    "\\usepackage{cite}\n",
    "\\usepackage{amsmath,amssymb,amsfonts}\n",
    "\\usepackage{algorithmic}\n",
    "\\usepackage{graphicx}\n",
    "\\usepackage{textcomp}\n",
    "\\def\\BibTeX{{\\rm B\\kern-.05em{\\sc i\\kern-.025em b}\\kern-.08em\n",
    "    T\\kern-.1667em\\lower.7ex\\hbox{E}\\kern-.125emX}}\n",
    "\\begin{document}"
   ]
  },
  {
   "cell_type": "raw",
   "metadata": {},
   "source": [
    "% TITLE GOES HERE\n",
    "\n",
    "\\title{Paper Title*\\\\}\n"
   ]
  },
  {
   "cell_type": "raw",
   "metadata": {},
   "source": [
    "% AUTHOR NAMES GOES HERE\n",
    "\n",
    "\\author{\\IEEEauthorblockN{1\\textsuperscript{st} Given Name Surname}\n",
    "\\IEEEauthorblockA{\\textit{dept. name of organization (of Aff.)} \\\\\n",
    "\\textit{name of organization (of Aff.)}\\\\\n",
    "City, Country \\\\\n",
    "email address}\n",
    "\\and\n",
    "\\IEEEauthorblockN{2\\textsuperscript{nd} Given Name Surname}\n",
    "\\IEEEauthorblockA{\\textit{dept. name of organization (of Aff.)} \\\\\n",
    "\\textit{name of organization (of Aff.)}\\\\\n",
    "City, Country \\\\\n",
    "email address}\n",
    "\\and\n",
    "\\IEEEauthorblockN{3\\textsuperscript{rd} Given Name Surname}\n",
    "\\IEEEauthorblockA{\\textit{dept. name of organization (of Aff.)} \\\\\n",
    "\\textit{name of organization (of Aff.)}\\\\\n",
    "City, Country \\\\\n",
    "email address}\n",
    "\\and\n",
    "\\IEEEauthorblockN{4\\textsuperscript{th} Given Name Surname}\n",
    "\\IEEEauthorblockA{\\textit{dept. name of organization (of Aff.)} \\\\\n",
    "\\textit{name of organization (of Aff.)}\\\\\n",
    "City, Country \\\\\n",
    "email address}\n",
    "\\and\n",
    "\\IEEEauthorblockN{5\\textsuperscript{th} Given Name Surname}\n",
    "\\IEEEauthorblockA{\\textit{dept. name of organization (of Aff.)} \\\\\n",
    "\\textit{name of organization (of Aff.)}\\\\\n",
    "City, Country \\\\\n",
    "email address}\n",
    "\\and\n",
    "\\IEEEauthorblockN{6\\textsuperscript{th} Given Name Surname}\n",
    "\\IEEEauthorblockA{\\textit{dept. name of organization (of Aff.)} \\\\\n",
    "\\textit{name of organization (of Aff.)}\\\\\n",
    "City, Country \\\\\n",
    "email address}\n",
    "}\n",
    "\n",
    "\\maketitle"
   ]
  },
  {
   "cell_type": "raw",
   "metadata": {},
   "source": [
    "% ABSTRACT \n",
    "\n",
    "\\begin{abstract}\n",
    "This document is a model and instructions for \\LaTeX.\n",
    "This and the IEEEtran.cls file define the components of your paper [title, text, heads, etc.]. *CRITICAL: Do Not Use Symbols, Special Characters, Footnotes, \n",
    "or Math in Paper Title or Abstract.\n",
    "\\end{abstract}\n"
   ]
  },
  {
   "cell_type": "raw",
   "metadata": {},
   "source": [
    "% KEYWORDS\n",
    "\n",
    "\\begin{IEEEkeywords}\n",
    "component, formatting, style, styling, insert\n",
    "\\end{IEEEkeywords}"
   ]
  },
  {
   "cell_type": "raw",
   "metadata": {},
   "source": [
    "% INTRODUCTION SECTION\n",
    "\\section{Introduction}\n",
    "\n",
    "Start typing here \\cite{b1}."
   ]
  },
  {
   "cell_type": "raw",
   "metadata": {},
   "source": [
    "% BACKGROUND SECTION\n",
    "\\section{Background}\n",
    "\n",
    "Start typing here \\cite{b2}."
   ]
  },
  {
   "cell_type": "raw",
   "metadata": {},
   "source": [
    "% METHODS SECTION\n",
    "\\section{Methods}\n",
    "\n",
    "Start typing here \\cite{b3}."
   ]
  },
  {
   "cell_type": "raw",
   "metadata": {},
   "source": [
    "% RESULTS SECTION\n",
    "\\section{Results}\n",
    "\n",
    "Start typing here \\cite{b4}."
   ]
  },
  {
   "cell_type": "raw",
   "metadata": {},
   "source": [
    "% DISCUSSION SECTION\n",
    "\\section{Discussion}\n",
    "\n",
    "Steganography is the art concealing a message within another message. In this case, images are being used as our messages. There is a high level of difficulty when attempting to crack a steganography algorithm when the method used to encode is not initially given to you. Because of this, many institutions use steganography due to its robustness and capacity of data that can be hidden. (Seethalakshmi) Steganography can also be used maliciously, such as hiding malware within a link that releases a virus when the user clicks on it. In order to decrypt the hidden images within the cover images in this project, a cycleGAN is used, which is a common architecture used in image generation and deciphering data. (Per Welander) CycleGANs include two generator and two discriminator models, which are used to generate the images and decipher whether those images are real or generated, repectively. The cycleGAN in this project takes an encoded image (one image hidden in another image) and deciphers what the hidden image is within the cover image. The images in this project were encrypted by taking the least significant RGB bits in the cover image and swapping them with the most significant RGB bits in the hidden image. Various RGB bit values (7-3 bits) were used when encrypting the images. Pix2pix is also used within the CycleGAN, which adds a U-Net structure to the CycleGAN generator as well as adding a loss function that quantifies the difference between a real and generated image. This allows the generator to more efficiently generate images similar to the input images. (R. Meng) An auto-encoder, which is an unsupervised neural network that is used to reconstruct input data, is also used in this project in order to measure its effectiveness against the original architecture, which is a cycleGAN. In order to gain maximum accuracy, we utilized bayesian optimization, which is a methodology that globally optimizes functions with costly evaluations. This will allow the model to produce more accurate decoded images.\n",
    "\n",
    "The method used within this paper to decode the hidden images is successful, but only to a certain extent. It successfully decodes the hidden images when passed in a training set of images encoded with constant bit value, such as encoding them using 7 bits, for example. After training, it successfully decodes images that were encoded using the same number of RGB bits that were used during training, but it was not highly accurate when decoding images that were encoded with a different number of RGB bits. However, when the images alter the number of RGB bits that are being swapped throughout training, the model has a more difficult time decoding images that contain a various number of swapped RGB bits during testing. Therefore, it becomes overall less effective when it is trained on a various number of swapped RGB bits rather than the same number of RGB bits within the encoded images. \n",
    "\n",
    "However, there are extra tasks that could be employed that could potentially increase the accuracy of this model when a various number of swapped RGB bits are used within the encoded images, such as utilizing an encoding algorithm that does not rely on RGB bit swapping or using different architectures, such as long short-term memory, regression, or convolutional neural networks, for example. These architectures may perform better when training on encoded images that contain a various number of swapped RGB bits, and it may also yield improved accuracy when decoding those images during testing when compared to a cycleGAN. Nevertheless, this model presents many fruitful avenues of research within the field of encryption and decryption, and in this case, image encryption and decryption. This model demonstrates the possibility of image encryption and decryption.\n",
    "\n",
    "Start typing here \\cite{b5}."
   ]
  },
  {
   "cell_type": "raw",
   "metadata": {},
   "source": [
    "% REFERENCES\n",
    "% THIS IS CREATED AUTOMATICALLY\n",
    "\\bibliographystyle{IEEEtran}\n",
    "\\bibliography{References} % change if another name is used for References file"
   ]
  },
  {
   "cell_type": "raw",
   "metadata": {},
   "source": [
    "\\end{document}"
   ]
  }
 ],
 "metadata": {
  "kernelspec": {
   "display_name": "Python 3",
   "language": "python",
   "name": "python3"
  },
  "language_info": {
   "codemirror_mode": {
    "name": "ipython",
    "version": 3
   },
   "file_extension": ".py",
   "mimetype": "text/x-python",
   "name": "python",
   "nbconvert_exporter": "python",
   "pygments_lexer": "ipython3",
   "version": "3.7.6"
  }
 },
 "nbformat": 4,
 "nbformat_minor": 4
}
