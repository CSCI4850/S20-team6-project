{
 "cells": [
  {
   "cell_type": "raw",
   "metadata": {},
   "source": [
    "% PACKAGES INCLUDED HERE \n",
    "% DO NOT NEED TO CHANGE\n",
    "\\documentclass[conference]{IEEEtran}\n",
    "%\\IEEEoverridecommandlockouts\n",
    "% The preceding line is only needed to identify funding in the first footnote. If that is unneeded, please comment it out.\n",
    "\\usepackage{cite}\n",
    "\\usepackage{amsmath,amssymb,amsfonts}\n",
    "\\usepackage{algorithmic}\n",
    "\\usepackage{graphicx}\n",
    "\\usepackage{textcomp}\n",
    "\\def\\BibTeX{{\\rm B\\kern-.05em{\\sc i\\kern-.025em b}\\kern-.08em\n",
    "    T\\kern-.1667em\\lower.7ex\\hbox{E}\\kern-.125emX}}\n",
    "\\begin{document}"
   ]
  },
  {
   "cell_type": "raw",
   "metadata": {},
   "source": [
    "% TITLE GOES HERE\n",
    "\n",
    "\\title{Stenography GAN: Cracking Stenography with Cycle Generative Adversarial Networks}\n"
   ]
  },
  {
   "cell_type": "raw",
   "metadata": {},
   "source": [
    "% AUTHOR NAMES GOES HERE\n",
    "\n",
    "\\author{\\IEEEauthorblockN{1\\textsuperscript{st} Nibraas Khan}\n",
    "\\IEEEauthorblockA{\\textit{Department of Computer Science} \\\\\n",
    "\\textit{Middle Tennessee State University}\\\\\n",
    "Murfreesboro, TN \\\\\n",
    "nak2z@mtmail.mtsu.edu}\n",
    "\\and\n",
    "\\IEEEauthorblockN{2\\textsuperscript{nd} Ruj Haan}\n",
    "\\IEEEauthorblockA{\\textit{Department of Computer Science} \\\\\n",
    "\\textit{Middle Tennessee State University}\\\\\n",
    "Murfreesboro, TN \\\\\n",
    "gm3g@mtmail.mtsu.edu}\n",
    "\\and\n",
    "\\IEEEauthorblockN{3\\textsuperscript{rd} George Boktor}\n",
    "\\IEEEauthorblockA{\\textit{Department of Computer Science} \\\\\n",
    "\\textit{Middle Tennessee State University}\\\\\n",
    "Murfreesboro, TN \\\\\n",
    "gsb3c@mtmail.mtsu.edu}\n",
    "\\and\n",
    "\\IEEEauthorblockN{4\\textsuperscript{th} Michael McComas}\n",
    "\\IEEEauthorblockA{\\textit{Department of Computer Science} \\\\\n",
    "\\textit{Middle Tennessee State University}\\\\\n",
    "Murfreesboro, TN \\\\\n",
    "mrm8m@mtmail.mtsu.edu}\n",
    "\\and\n",
    "\\IEEEauthorblockN{5\\textsuperscript{th} Ramin Daneshi}\n",
    "\\IEEEauthorblockA{\\textit{Department of Computer Science} \\\\\n",
    "\\textit{Middle Tennessee State University}\\\\\n",
    "Murfreesboro, TN \\\\\n",
    "rd3s@mtmail.mtsu.edu}\n",
    "}\n",
    "\n",
    "\\maketitle"
   ]
  },
  {
   "cell_type": "raw",
   "metadata": {},
   "source": [
    "% ABSTRACT \n",
    "\n",
    "\\begin{abstract}\n",
    "This document is a model and instructions for \\LaTeX.\n",
    "This and the IEEEtran.cls file define the components of your paper [title, text, heads, etc.]. *CRITICAL: Do Not Use Symbols, Special Characters, Footnotes, \n",
    "or Math in Paper Title or Abstract.\n",
    "\\end{abstract}\n"
   ]
  },
  {
   "cell_type": "raw",
   "metadata": {},
   "source": [
    "% KEYWORDS\n",
    "\n",
    "\\begin{IEEEkeywords}\n",
    "component, formatting, style, styling, insert\n",
    "\\end{IEEEkeywords}"
   ]
  },
  {
   "cell_type": "raw",
   "metadata": {},
   "source": [
    "% INTRODUCTION SECTION\n",
    "\\section{Introduction}\n",
    "\n",
    "Talk about the importance of cyrpto. \n",
    "\n",
    "The sten specifically. \n",
    "\n",
    "Sten used in real life.\n",
    "\n",
    "There have crack to crack cyrpto and steno. \n",
    "\n",
    "We are also taking on the same task. Our approach is cycle gans. \n",
    "\n",
    "Before that, we need to about gans in general. \n",
    "\n",
    "History of cycle gans \n",
    "\n",
    "Pix2Pix and CNN\n",
    "\n",
    "Why will this work/or why is this worth exploring \n",
    "\n",
    "In order to understand its need to compare it to other models, and in this case autoencoders\n",
    "\n",
    "For maximum accruacy we also introduced. Bayesian optimization which is ...\n",
    "\n",
    "Start typing here \\cite{b1}."
   ]
  },
  {
   "cell_type": "raw",
   "metadata": {},
   "source": [
    "% BACKGROUND SECTION\n",
    "\\section{Background}\n",
    "\n",
    "The details of the sten algo. Include some images. Give an example. \n",
    "\n",
    "We used cycles gans to crack this algo. That etails: \n",
    "\n",
    "Regular GANs. Include images and the math\n",
    "\n",
    "Cycle GANs. Explain it a little bit \n",
    "\n",
    "Our implemention of cycle gans ultalizes pix2pix\n",
    "\n",
    "Explain what pix2pix is. Include images and rough outlay of the math \n",
    "\n",
    "Pix2pix emplyed CNN. What they are and the math behind it. \n",
    "\n",
    "CipherGANs. Explain it a little bit\n",
    "\n",
    "Autoencoders. Explain it a little bit \n",
    "\n",
    "Baysian optimzation. Explain it a little but\n",
    "\n",
    "---\n",
    "\n",
    "The primary characteristic of our specific Stenography algorithm involves taking two images, classifying one image as the Hidden Image and another image as the Cover Image. The Hidden Image is encoded into the Cover Image by taking its first N number of significant digits in each binary string representation and appending it to the corresponding string in the Cover Image.\n",
    "\n",
    "To begin understanding how we approached the problem of cracking the Stenography algorithm, it would be useful to begin with Generative Adversarial Networks, generative models that are able to produce high quality content (high quality in this case meaning any kind of data that closely resembles an optimal distribution specified for a given task) through adversarial learning. Specifically, GANs partake in a discrimination task wherein a discriminator network is trained to classify content as real or fake and the generator network is trained to produce content real enough to fool the discriminator network. For GANs, after each training cycle, a classification error is evaluated, and the goal of the generator network is to maximize this classification error between what's real and what's generated while the discriminator network attempts to minimize that error. Weights are adjusted according to each network's task: the generator via gradient ascent over its parameters and the discriminator via gradient descent over its parameters. As both networks become more proficient in their respective tasks, the adversarial nature of the training regime will allow the generator to produce more accurate content with respect to what the task demands.\n",
    "\n",
    "Cycle Generative Adversarial Networks \n",
    "\n",
    "\n",
    "\n",
    "\n"
   ]
  },
  {
   "cell_type": "raw",
   "metadata": {},
   "source": [
    "% METHODS SECTION\n",
    "\\section{Methods}\n",
    "\n",
    "Math for the cycle gans\n",
    "\n",
    "Math behind the autoencoders \n",
    "\n",
    "Math bethind the bayes opt\n",
    "\n",
    "Training CycleGAN: \n",
    "    The training and testing data\n",
    "    How we actually flow through the network \n",
    "    Bayes opt\n",
    "    \n",
    "Training Autoencoders:\n",
    "    The training and testing data\n",
    "    How we actually flow through the network\n",
    "    \n",
    "Testing protocols: \n",
    "    Testing\n",
    "    \n",
    "Different training techniques:\n",
    "    Bit size"
   ]
  },
  {
   "cell_type": "raw",
   "metadata": {},
   "source": [
    "% RESULTS SECTION\n",
    "\\section{Results}\n",
    "\n",
    "Here are the result for cycle gan: \n",
    "     Grab images from the cycle gan algo\n",
    "\n",
    "Here are the results for autoencoder:\n",
    "     Grab images from the autoencoder section \n",
    "     \n",
    "Here are the results for messing with different bit size:\n",
    "     Images from bit = 7, 6, 5, 4, 3\n",
    "\n",
    "Here are the results for cycle gan with bayes opt:"
   ]
  },
  {
   "cell_type": "raw",
   "metadata": {},
   "source": [
    "% DISCUSSION SECTION\n",
    "\\section{Discussion}\n",
    "\n",
    "Summary of the introduction \n",
    "\n",
    "If our model was successful. Why was it not successful. \n",
    "\n",
    "Extra things that we can work on. \n",
    "\n",
    "Our model presentes many fruitful avenues of research "
   ]
  },
  {
   "cell_type": "raw",
   "metadata": {},
   "source": [
    "% REFERENCES\n",
    "% THIS IS CREATED AUTOMATICALLY\n",
    "\\bibliographystyle{IEEEtran}\n",
    "\\bibliography{References} % change if another name is used for References file"
   ]
  },
  {
   "cell_type": "raw",
   "metadata": {},
   "source": [
    "\\end{document}"
   ]
  }
 ],
 "metadata": {
  "kernelspec": {
   "display_name": "Python 3",
   "language": "python",
   "name": "python3"
  },
  "language_info": {
   "codemirror_mode": {
    "name": "ipython",
    "version": 3
   },
   "file_extension": ".py",
   "mimetype": "text/x-python",
   "name": "python",
   "nbconvert_exporter": "python",
   "pygments_lexer": "ipython3",
   "version": "3.7.4"
  }
 },
 "nbformat": 4,
 "nbformat_minor": 4
}
