{
 "cells": [
  {
   "cell_type": "raw",
   "metadata": {},
   "source": [
    "% PACKAGES INCLUDED HERE \n",
    "% DO NOT NEED TO CHANGE\n",
    "\\documentclass[conference]{IEEEtran}\n",
    "%\\IEEEoverridecommandlockouts\n",
    "% The preceding line is only needed to identify funding in the first footnote. If that is unneeded, please comment it out.\n",
    "\\usepackage{cite}\n",
    "\\usepackage{amsmath,amssymb,amsfonts}\n",
    "\\usepackage{algorithmic}\n",
    "\\usepackage{graphicx}\n",
    "\\usepackage{textcomp}\n",
    "\\def\\BibTeX{{\\rm B\\kern-.05em{\\sc i\\kern-.025em b}\\kern-.08em\n",
    "    T\\kern-.1667em\\lower.7ex\\hbox{E}\\kern-.125emX}}\n",
    "\\begin{document}"
   ]
  },
  {
   "cell_type": "raw",
   "metadata": {},
   "source": [
    "% TITLE GOES HERE\n",
    "\n",
    "\\title{Paper Title*\\\\}\n"
   ]
  },
  {
   "cell_type": "raw",
   "metadata": {},
   "source": [
    "% AUTHOR NAMES GOES HERE\n",
    "\n",
    "\\author{\\IEEEauthorblockN{1\\textsuperscript{st} Given Name Surname}\n",
    "\\IEEEauthorblockA{\\textit{dept. name of organization (of Aff.)} \\\\\n",
    "\\textit{name of organization (of Aff.)}\\\\\n",
    "City, Country \\\\\n",
    "email address}\n",
    "\\and\n",
    "\\IEEEauthorblockN{2\\textsuperscript{nd} Given Name Surname}\n",
    "\\IEEEauthorblockA{\\textit{dept. name of organization (of Aff.)} \\\\\n",
    "\\textit{name of organization (of Aff.)}\\\\\n",
    "City, Country \\\\\n",
    "email address}\n",
    "\\and\n",
    "\\IEEEauthorblockN{3\\textsuperscript{rd} Given Name Surname}\n",
    "\\IEEEauthorblockA{\\textit{dept. name of organization (of Aff.)} \\\\\n",
    "\\textit{name of organization (of Aff.)}\\\\\n",
    "City, Country \\\\\n",
    "email address}\n",
    "\\and\n",
    "\\IEEEauthorblockN{4\\textsuperscript{th} Given Name Surname}\n",
    "\\IEEEauthorblockA{\\textit{dept. name of organization (of Aff.)} \\\\\n",
    "\\textit{name of organization (of Aff.)}\\\\\n",
    "City, Country \\\\\n",
    "email address}\n",
    "\\and\n",
    "\\IEEEauthorblockN{5\\textsuperscript{th} Given Name Surname}\n",
    "\\IEEEauthorblockA{\\textit{dept. name of organization (of Aff.)} \\\\\n",
    "\\textit{name of organization (of Aff.)}\\\\\n",
    "City, Country \\\\\n",
    "email address}\n",
    "\\and\n",
    "\\IEEEauthorblockN{6\\textsuperscript{th} Given Name Surname}\n",
    "\\IEEEauthorblockA{\\textit{dept. name of organization (of Aff.)} \\\\\n",
    "\\textit{name of organization (of Aff.)}\\\\\n",
    "City, Country \\\\\n",
    "email address}\n",
    "}\n",
    "\n",
    "\\maketitle"
   ]
  },
  {
   "cell_type": "raw",
   "metadata": {},
   "source": [
    "% ABSTRACT \n",
    "\n",
    "\\begin{abstract}\n",
    "This document is a model and instructions for \\LaTeX.\n",
    "This and the IEEEtran.cls file define the components of your paper [title, text, heads, etc.]. *CRITICAL: Do Not Use Symbols, Special Characters, Footnotes, \n",
    "or Math in Paper Title or Abstract.\n",
    "\\end{abstract}\n"
   ]
  },
  {
   "cell_type": "raw",
   "metadata": {},
   "source": [
    "% KEYWORDS\n",
    "\n",
    "\\begin{IEEEkeywords}\n",
    "component, formatting, style, styling, insert\n",
    "\\end{IEEEkeywords}"
   ]
  },
  {
   "cell_type": "raw",
   "metadata": {},
   "source": [
    "% INTRODUCTION SECTION\n",
    "\\section{Introduction}\n",
    "\n",
    "When you have information that could possibly harm you or others do you leave it out in the open or keep it hidden? And if you were to hide it, would you be worried that someone could find it? Well, what if there was a way to hide information that even if they found it, they could not use it? There is a way and it is how steganography came to be. Steganography is the science of hiding a secret message within an ordinary message This means we can use it to encode a message that you would want to give to someone without anyone else discovering it. For example, if a person were to encode “Are you going to the park?” and give it to the recipient who has the decoder they could see the secret message. However, if said message were to get intercepted, that individual would be unable to crack the code to find out the message. Through these situations were the user has no way to decode the message, cryptography was born. Cryptography is the art of writing or solving codes. This means that were there is stenography, there will allows be people using cryptography to try to decode the encoded information.\n",
    "\n",
    "Even with the use of cryptography, stenography is very difficult to crack because without knowing how the information was encoded the information will be lost to you. This makes stenography an important part of both the cybersecurity and malware worlds. For cybersecurity, many government agencies use stenography because it allows one the ability to send hidden data in an image while hiding the very existence of the information itself. (Seethalakshmi).\n",
    "\n",
    "This very way of hiding data from prying eyes is the exact way individuals use steganography to create malware to steal information. These people will often do this in the form of images or links. Something that appears harmless but can-do major damage. For example, this type of stenography can be regularly seen in phishing emails that contain an image or link that when clicked on releases a virus into the computer and steals information. \n",
    "This experiment looks at using Stenography similar to the methods mentioned before to take an image and hide it inside another. In order to interpret the images we are processing and decode the bits hidden inside them, we will be using Cycle GANs. GANs, Generative Adversarial Networks, are a method for deep learning development to help synthesize data. They are widely used in image generation and will help in deciphering our data. This strategy of deciphering data in this manner was originally introduced in a paper by Ian Goodfellow with his fellow researches at the University of Montreal in 2014. (Per Welander)\n",
    "\n",
    "Developing the necessary architecture for this experiment requires a discriminator and a generator model. The discriminator is a Convolutional Neural Network that determines whether the received image is real or generated. While the generator uses inverse convolutional layers to create an image by transforming its input.\n",
    "“Hertzmann et al. proposed that non-parametric texture model for translating an image to another image by image analogies method. Due to the antagonistic characteristics of GAN, it is very suitable to generate natural images.” Pix2pix is adds a U-Net structure to the CycleGan generator and adds a loss measurement that measures the difference between a real and generated image. This allows for easy translation between images and makes it possible to generate an image like the input image. (R. Meng)\n",
    "\n",
    "For maximum accuracy, we used bayesian optimization which is “an effective methodology for the global optimization of functions with expensive evaluations.” In using this, we can improve the output of our image processing to make more accurate encoded pictures.\n",
    "\n",
    "This network will use Cycle GANs to hide a specified image inside of another and learn to recognize the hidden image to output it. For this, we will have two sets of photos. One set will contain the images to hide, and the second set will contain images to hide the requested photo in. In order to do this the two parts of our Cycle GAN, the discriminator, and the generator, must work together to recognize real verses generated images. To accomplish this, the generator will take the most significant bits from photos in the first set and attempt to hide the image inside an image from the second set. The Discriminator will then take the generators output and photos from the second set in order to determine the likelihood that it is not a generated image. This likelihood is calculated as the loss of the network and is used to determine how accurate it is at hiding and recognizing hidden images.\n",
    "This paper discusses the value and methodology of hiding images inside of another and is worth every consideration. It is worth consideration because of its possibility. If images can be accurately stored and retrieved from another it would give technology a new way to store items. You could have many images hidden inside one ready for easy transfer and \"unzip\" the image to reveal all the hidden ones. This process could also allow for a new way to send data as information could be converted down to bits and placed inside an image and translated when it is received. In so doing, it could simplify transporting data from one device to another as sending pixel values is simpler than sending large data files. \n",
    "\n",
    " \\cite{b1}."
   ]
  },
  {
   "cell_type": "raw",
   "metadata": {},
   "source": [
    "% BACKGROUND SECTION\n",
    "\\section{Background}\n",
    "\n",
    "Start typing here \\cite{b2}."
   ]
  },
  {
   "cell_type": "raw",
   "metadata": {},
   "source": [
    "% METHODS SECTION\n",
    "\\section{Methods}\n",
    "\n",
    "Start typing here \\cite{b3}."
   ]
  },
  {
   "cell_type": "raw",
   "metadata": {},
   "source": [
    "% RESULTS SECTION\n",
    "\\section{Results}\n",
    "\n",
    "Start typing here \\cite{b4}."
   ]
  },
  {
   "cell_type": "raw",
   "metadata": {},
   "source": [
    "% DISCUSSION SECTION\n",
    "\\section{Discussion}\n",
    "\n",
    "Start typing here \\cite{b5}."
   ]
  },
  {
   "cell_type": "raw",
   "metadata": {},
   "source": [
    "% REFERENCES\n",
    "% THIS IS CREATED AUTOMATICALLY\n",
    "\\bibliographystyle{IEEEtran}\n",
    "\\bibliography{References} % change if another name is used for References file"
   ]
  },
  {
   "cell_type": "raw",
   "metadata": {},
   "source": [
    "\\end{document}"
   ]
  }
 ],
 "metadata": {
  "kernelspec": {
   "display_name": "Python 3",
   "language": "python",
   "name": "python3"
  },
  "language_info": {
   "codemirror_mode": {
    "name": "ipython",
    "version": 3
   },
   "file_extension": ".py",
   "mimetype": "text/x-python",
   "name": "python",
   "nbconvert_exporter": "python",
   "pygments_lexer": "ipython3",
   "version": "3.7.6"
  }
 },
 "nbformat": 4,
 "nbformat_minor": 4
}
