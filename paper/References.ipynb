{
 "cells": [
  {
   "cell_type": "raw",
   "metadata": {},
   "source": [
    "@article{b1,\n",
    "  author = \"L\\^e D{\\~u}ng Trang and Zoghman Mebkhout\",\n",
    "   title = \"Vari\\'et\\'es caract\\'er\\-istiques et vari\\'et\\'es polaires\",\n",
    " journal = \"C. R. Acad. Sc. Paris\",\n",
    "  volume = 296,\n",
    "    year = 1983,\n",
    "   pages = \"129--132\"\n",
    "}"
   ]
  }
 ],
 "metadata": {
  "kernelspec": {
   "display_name": "Python 3",
   "language": "python",
   "name": "python3"
  },
  "language_info": {
   "codemirror_mode": {
    "name": "ipython",
    "version": 3
   },
   "file_extension": ".py",
   "mimetype": "text/x-python",
   "name": "python",
   "nbconvert_exporter": "python",
   "pygments_lexer": "ipython3",
   "version": "3.7.6"
  }
 },
 "nbformat": 4,
 "nbformat_minor": 4
}
