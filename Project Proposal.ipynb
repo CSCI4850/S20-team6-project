{
 "cells": [
  {
   "cell_type": "markdown",
   "metadata": {},
   "source": [
    "# Team 6 (GIG) Project Proposal - Cycle GANs to Break Ciphers\n",
    "\n",
    "## By: \n",
    "\n",
    "# George Boktor, \n",
    "\n",
    "    Nibraas Khan,\n",
    "\n",
    "    Ruj Haan,\n",
    "\n",
    "    Michael McComas,\n",
    "\n",
    "    Ramin Daneshi,\n",
    "\n",
    "    Brandon ?\n",
    "\n",
    "### Due Feb. 27, 2020\n",
    "### CSCI 4850 - Dr. Phillips"
   ]
  },
  {
   "cell_type": "markdown",
   "metadata": {},
   "source": [
    "        In Cryptography, Ciphers are algorithms that perform some kind of encryption on data. The point of Ciphers is to encode information, then the same kind of Cipher would be used to decode the information. Ciphers are known to be notoriously hard to crack, because to be able to glean an encoded message, you would have to create an algorithm that performs the original encryption process but in reverse."
   ]
  },
  {
   "cell_type": "markdown",
   "metadata": {},
   "source": [
    "        Our goal is to crack ciphers by creating a Generative Adverserial Neural Network that can replicate the decryption function needed to decode the cipher."
   ]
  },
  {
   "cell_type": "code",
   "execution_count": null,
   "metadata": {},
   "outputs": [],
   "source": []
  }
 ],
 "metadata": {
  "kernelspec": {
   "display_name": "Python 3",
   "language": "python",
   "name": "python3"
  },
  "language_info": {
   "codemirror_mode": {
    "name": "ipython",
    "version": 3
   },
   "file_extension": ".py",
   "mimetype": "text/x-python",
   "name": "python",
   "nbconvert_exporter": "python",
   "pygments_lexer": "ipython3",
   "version": "3.7.3"
  }
 },
 "nbformat": 4,
 "nbformat_minor": 4
}
