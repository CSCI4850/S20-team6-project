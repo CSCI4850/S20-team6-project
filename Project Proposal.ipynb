{
 "cells": [
  {
   "cell_type": "markdown",
   "metadata": {},
   "source": [
    "# Team 6 Project Proposal - Cycle GANs to Break Ciphers (Steganography)\n",
    "## Members:\n",
    "    1. George Boktor \n",
    "    2. Nibraas Khan\n",
    "    3. Ruj Haan\n",
    "    4. Michael McComas\n",
    "    5. Ramin Daneshi\n",
    "    6. Brandon Swenson"
   ]
  },
  {
   "cell_type": "markdown",
   "metadata": {},
   "source": [
    "### What is Steganography"
   ]
  },
  {
   "cell_type": "markdown",
   "metadata": {},
   "source": [
    "Steganography (covered or concealed writing) is the practice of hiding information such as files, messages, images, and videos within other files, messages, images, and videos. The main attraction of Steganography is the ability to hide information without drawing attention to itself (unlike most Ciphers which are clearly Ciphers) [1]. There are two-layer to this type of concealment, hiding the fact that a message is being sent and the message itself. The change in the images is so subtle that someone who is not looking for the changes will not notice anything. "
   ]
  },
  {
   "cell_type": "markdown",
   "metadata": {},
   "source": [
    "<img src=\"img/example_of_hiding.png\" />"
   ]
  },
  {
   "cell_type": "markdown",
   "metadata": {},
   "source": [
    "The image above shows an example of hiding an image within another image while not being very obvious [2]. With the use of some Steganography algorithm, the image of the cat is hidden in the cover image while maintaining its original look. From this example, it is seen that the changes in the image are so subtle, that the only way to notice the change is to actively search for it. "
   ]
  },
  {
   "cell_type": "markdown",
   "metadata": {},
   "source": [
    "### Main Goal "
   ]
  },
  {
   "cell_type": "markdown",
   "metadata": {},
   "source": [
    "Our goal is to try to crack Steganography algorithms. By that, we want to be able to look at an image that contains hidden information and extract it. For the purpose of this project, the information hidden within an image will be text. So our model will be able to look at the images with hidden information and extract it. With the learned distribution (of the Steganography algorithm), it will be able to decode the information hidden in the image. "
   ]
  },
  {
   "cell_type": "markdown",
   "metadata": {},
   "source": [
    "### What are Generative Adversarial Networks"
   ]
  },
  {
   "cell_type": "markdown",
   "metadata": {},
   "source": [
    "Generative adversarial networks (GANs) are algorithmic architectures that use two neural networks (Generator and Discriminator), pitting one against the other (thus the “adversarial”) in order to generate new, synthetic instances of data that can pass for real data. The synthetic data is drawn from the same distribution as the real data [2]. They are used widely in image generation, video generation, and voice generation. Some examples of their useses include style transfer and deepfakes. "
   ]
  },
  {
   "cell_type": "markdown",
   "metadata": {},
   "source": [
    "### What are Cycle Generative Adversarial Networks"
   ]
  },
  {
   "cell_type": "markdown",
   "metadata": {},
   "source": [
    "There are many ways to learn the distribution, but we choose to implement Cycle Generative Adversarial Networks. This network works by using unordered sets to perform supervised learning. To understand how all the neural networks work within the model, consider the image below."
   ]
  },
  {
   "cell_type": "markdown",
   "metadata": {},
   "source": [
    "<img src=\"img/flow_of_gan.png\" />"
   ]
  },
  {
   "cell_type": "markdown",
   "metadata": {},
   "source": [
    "The image above shows an example of style transfer using a CycleGAN. In this example, the model is able to convert between the domain of horses and zebras by learning their distribution. We are planning on using the same approach to crack steganography [4]. "
   ]
  },
  {
   "cell_type": "markdown",
   "metadata": {},
   "source": [
    "By training our GAN to understand the mapping from the image containing a hidden message to the message and the message back up to the image, we will be able to crack Steganography algorithms. Currently, we plan on solving the task when the hidden message is text, but there should not be complications to adapt the model to solve problems for other hidden information such as images or files. "
   ]
  },
  {
   "cell_type": "markdown",
   "metadata": {},
   "source": [
    "### Set of aims (as bullet points)"
   ]
  },
  {
   "cell_type": "markdown",
   "metadata": {},
   "source": [
    "- Create a Steganography algorithm to learn and test on - our team must develop a way to take an image and by changing the intensity of a few of the pixel values in the image, encode a message. All without changing the image in a way that gives away something wrong with the image.\n",
    "- Generate the data set by passing images into the Steganography algorithm \n",
    "- Using the data created in step 2, train a CycleGAN (potentially just a GAN) to crack the algorithm - our team must develop a network capable of reading in our custom input, interpreting the intensity of the image pixels, and decoding the encrypted message.\n",
    "- Once we are able to crack a simple Steganography algorithm, we will build more complex Steganography algorithms and try to crack them using the same techniques"
   ]
  },
  {
   "cell_type": "markdown",
   "metadata": {},
   "source": [
    "### Roles of the neural networks"
   ]
  },
  {
   "cell_type": "markdown",
   "metadata": {},
   "source": [
    "Our model will contain a total of 4 neural networks. There will be two generator and two discriminators. The networks will work together as shown in the CycleGAN example image above to solve for the distribution of the Steganography algorithm. The two generators will generate data in the 2 domains, and the two discriminators will try to figure out if the generated data fits the distribution of the repective domain. "
   ]
  },
  {
   "cell_type": "markdown",
   "metadata": {},
   "source": [
    "### Data for training"
   ]
  },
  {
   "cell_type": "markdown",
   "metadata": {},
   "source": [
    "The Steganography algorithm that our model will try to crack will be designed by us. So our data for training will be created by running images through our own algorithm and encoding a hidden message in them. Since we have the algorithm we are trying the crack, there is no need to find external data sources. "
   ]
  },
  {
   "cell_type": "markdown",
   "metadata": {},
   "source": [
    "### Data for testing"
   ]
  },
  {
   "cell_type": "markdown",
   "metadata": {},
   "source": [
    "We will once again use our Steganography algorithm to generate the data, but the model will not be exposed to the testing data until the end. It will have to try to decode unseed images and messages. "
   ]
  },
  {
   "cell_type": "markdown",
   "metadata": {},
   "source": [
    "### Measuring success"
   ]
  },
  {
   "cell_type": "markdown",
   "metadata": {},
   "source": [
    "It is hard to measure success when it comes to this task because we are working with a complex encoding algorithm. For our testing metric, we will see have accuractly the model is able to take in images with encoded text and extract the hidden message. We will test how much of the message the model is able to extract and how clear it is as well as how many of the images it can extract information from. "
   ]
  },
  {
   "cell_type": "markdown",
   "metadata": {},
   "source": [
    "### References"
   ]
  },
  {
   "cell_type": "markdown",
   "metadata": {},
   "source": [
    "[1] “Steganography.” Wikipedia, Wikimedia Foundation, 24 Feb. 2020, en.wikipedia.org/wiki/Steganography.\n",
    "\n",
    "[2] Gupta, Harshvardhan. “Hiding Images Using AI - Deep Steganography.” Medium, BuZZrobot, 13 Feb. 2018, buzzrobot.com/hiding-images-using-ai-deep-steganography-b7726bd58b06.\n",
    "\n",
    "[3] “A Beginner's Guide to Generative Adversarial Networks (GANs).” Pathmind, pathmind.com/wiki/generative-adversarial-network-gan.\n",
    "\n",
    "[4] Jun-Yan Zhu*, Taesung Park*, Phillip Isola, and Alexei A. Efros. \"Unpaired Image-to-Image Translation using Cycle-Consistent Adversarial Networks\", in IEEE International Conference on Computer Vision (ICCV), 2017."
   ]
  }
 ],
 "metadata": {
  "kernelspec": {
   "display_name": "Python 3",
   "language": "python",
   "name": "python3"
  },
  "language_info": {
   "codemirror_mode": {
    "name": "ipython",
    "version": 3
   },
   "file_extension": ".py",
   "mimetype": "text/x-python",
   "name": "python",
   "nbconvert_exporter": "python",
   "pygments_lexer": "ipython3",
   "version": "3.7.3"
  }
 },
 "nbformat": 4,
 "nbformat_minor": 4
}
