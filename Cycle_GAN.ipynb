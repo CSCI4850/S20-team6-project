{
 "cells": [
  {
   "cell_type": "markdown",
   "metadata": {},
   "source": [
    "# CycleGAN Practice"
   ]
  },
  {
   "cell_type": "code",
   "execution_count": null,
   "metadata": {},
   "outputs": [],
   "source": [
    "from __future__ import absolute_import, division, print_function, unicode_literals\n",
    "import tensorflow as tf\n",
    "\n",
    "\n",
    "from bayes_opt import BayesianOptimization\n",
    "\n",
    "from bayes_opt.logger import JSONLogger\n",
    "from bayes_opt.event import Events\n",
    "#import tensorflow_datasets as tfds\n",
    "from tensorflow_examples.models.pix2pix import pix2pix\n",
    "\n",
    "from tqdm.auto import tqdm, trange\n",
    "import os\n",
    "import time\n",
    "import matplotlib.pyplot as plt\n",
    "from IPython.display import clear_output\n",
    "import numpy as np\n",
    "from sten import Sten\n",
    "\n",
    "\n",
    "import random\n",
    "\n",
    "\n",
    "#tfds.disable_progress_bar()\n",
    "AUTOTUNE = tf.data.experimental.AUTOTUNE"
   ]
  },
  {
   "cell_type": "markdown",
   "metadata": {},
   "source": [
    "Grabbing the data"
   ]
  },
  {
   "cell_type": "code",
   "execution_count": null,
   "metadata": {},
   "outputs": [],
   "source": [
    "#!pip install  bayesian-optimization\n",
    "#!pip install -q git+https://github.com/tensorflow/examples.git"
   ]
  },
  {
   "cell_type": "code",
   "execution_count": null,
   "metadata": {},
   "outputs": [],
   "source": [
    "SEED=1"
   ]
  },
  {
   "cell_type": "code",
   "execution_count": null,
   "metadata": {},
   "outputs": [],
   "source": [
    "tf.random.set_seed(SEED)\n",
    "random.seed(SEED)\n",
    "np.random.seed(SEED)"
   ]
  },
  {
   "cell_type": "code",
   "execution_count": null,
   "metadata": {},
   "outputs": [],
   "source": [
    "OUTPUT_CHANNELS = 3\n",
    "# pix2pix it has trained of an ordered pair\n",
    "# pix2pix pretrained model and it returns a model\n",
    "#generator_g, discriminato_x collection 1 horse \n",
    "generator_g = pix2pix.unet_generator(OUTPUT_CHANNELS, norm_type='instancenorm')\n",
    "generator_f = pix2pix.unet_generator(OUTPUT_CHANNELS, norm_type='instancenorm')\n",
    "# discriminator_x zebras \n",
    "discriminator_x = pix2pix.discriminator(norm_type='instancenorm', target=False)\n",
    "discriminator_y = pix2pix.discriminator(norm_type='instancenorm', target=False)"
   ]
  },
  {
   "cell_type": "code",
   "execution_count": null,
   "metadata": {},
   "outputs": [],
   "source": [
    "#LAMBDA = 10 # learning rate\n",
    "\n",
    "loss_obj = tf.keras.losses.BinaryCrossentropy(from_logits=True)"
   ]
  },
  {
   "cell_type": "code",
   "execution_count": null,
   "metadata": {},
   "outputs": [],
   "source": [
    "def discriminator_loss(real, generated):\n",
    "    real_loss = loss_obj(tf.ones_like(real), real)\n",
    "    generated_loss = loss_obj(tf.zeros_like(generated), generated)\n",
    "    total_disc_loss = real_loss + generated_loss\n",
    "    return total_disc_loss * 0.5 #cute the discriminator in half so we dont over shot\n",
    "\n",
    "def generator_loss(generated):\n",
    "      return loss_obj(tf.ones_like(generated), generated)"
   ]
  },
  {
   "cell_type": "code",
   "execution_count": null,
   "metadata": {},
   "outputs": [],
   "source": [
    "def calc_cycle_loss(LAMBDA, real_image, cycled_image):\n",
    "      loss1 = tf.reduce_mean(tf.abs(real_image - cycled_image))\n",
    "  \n",
    "      return int(LAMBDA) * loss1"
   ]
  },
  {
   "cell_type": "code",
   "execution_count": null,
   "metadata": {},
   "outputs": [],
   "source": [
    "def identity_loss(LAMBDA, real_image, same_image):\n",
    "        loss = tf.reduce_mean(tf.abs(real_image - same_image))\n",
    "        return int(LAMBDA) * 0.5 * loss"
   ]
  },
  {
   "cell_type": "code",
   "execution_count": null,
   "metadata": {},
   "outputs": [],
   "source": [
    "generator_g_optimizer = tf.keras.optimizers.Adam(2e-4, beta_1=0.5)\n",
    "generator_f_optimizer = tf.keras.optimizers.Adam(2e-4, beta_1=0.5)\n",
    "\n",
    "discriminator_x_optimizer = tf.keras.optimizers.Adam(2e-4, beta_1=0.5)\n",
    "discriminator_y_optimizer = tf.keras.optimizers.Adam(2e-4, beta_1=0.5)"
   ]
  },
  {
   "cell_type": "code",
   "execution_count": null,
   "metadata": {},
   "outputs": [],
   "source": [
    "# #after every epoch save where we are \n",
    "# checkpoint_path = \"./checkpoints/train\"\n",
    "\n",
    "# ckpt = tf.train.Checkpoint(generator_g=generator_g,\n",
    "#                            generator_f=generator_f,\n",
    "#                            discriminator_x=discriminator_x,\n",
    "#                            discriminator_y=discriminator_y,\n",
    "#                            generator_g_optimizer=generator_g_optimizer,\n",
    "#                            generator_f_optimizer=generator_f_optimizer,\n",
    "#                            discriminator_x_optimizer=discriminator_x_optimizer,\n",
    "#                            discriminator_y_optimizer=discriminator_y_optimizer)\n",
    "\n",
    "# ckpt_manager = tf.train.CheckpointManager(ckpt, checkpoint_path, max_to_keep=5)\n",
    "\n",
    "# # if a checkpoint exists, restore the latest checkpoint.\n",
    "# if ckpt_manager.latest_checkpoint:\n",
    "#     ckpt.restore(ckpt_manager.latest_checkpoint)\n",
    "#     print ('Latest checkpoint restored!!')"
   ]
  },
  {
   "cell_type": "code",
   "execution_count": null,
   "metadata": {},
   "outputs": [],
   "source": []
  },
  {
   "cell_type": "code",
   "execution_count": null,
   "metadata": {},
   "outputs": [],
   "source": [
    "@tf.function\n",
    "def train_step(LAMBDA,real_x, real_y): # horse and zebra\n",
    "  # persistent is set to True because the tape is used more than\n",
    "  # once to calculate the gradients.\n",
    "  # tap automatically finds the derivative of the value (the value you pass to it) for you \n",
    "  with tf.GradientTape(persistent=True) as tape:\n",
    "    # Generator G translates X -> Y\n",
    "    # Generator F translates Y -> X.\n",
    "    # G connected to Y\n",
    "    # F connected to X\n",
    "    fake_y = generator_g(real_x, training=True) # real horse to zebra\n",
    "    \n",
    "    cycled_x = generator_f(fake_y, training=True) #zebra to horse| cycled_x should be really close to real_x\n",
    "\n",
    "    fake_x = generator_f(real_y, training=True) #real zebra to horse\n",
    "    cycled_y = generator_g(fake_x, training=True) #horse to zebra\n",
    "\n",
    "    # same_x and same_y are used for identity loss.\n",
    "    same_x = generator_f(real_x, training=True) # horse to horse\n",
    "    same_y = generator_g(real_y, training=True) # zebra to zebra\n",
    "\n",
    "    disc_real_x = discriminator_x(real_x, training=True) # take a real horse and predict if its real or not\n",
    "    disc_real_y = discriminator_y(real_y, training=True) # take a real zebra and predict if its real or not\n",
    "\n",
    "    disc_fake_x = discriminator_x(fake_x, training=True) # does the fake horse look real or not\n",
    "    disc_fake_y = discriminator_y(fake_y, training=True) # does the fake zebra look real or not\n",
    "\n",
    "    # calculate the loss\n",
    "    # we want to see how far the fake image is to the real one\n",
    "    gen_g_loss = generator_loss(disc_fake_y) # zebra \n",
    "    gen_f_loss = generator_loss(disc_fake_x) # horse\n",
    "    \n",
    "    \n",
    "    # it says real_x should be the same as Cycled_x and same does for Y\n",
    "    total_cycle_loss = calc_cycle_loss(LAMBDA,real_x, cycled_x) + calc_cycle_loss(LAMBDA,real_y, cycled_y)\n",
    "       \n",
    "    # Total generator loss = adversarial loss + cycle loss\n",
    "    # identity loss(): if generator_g zebra it should output a zebra. It job is to understand what makes a zebra a zebra\n",
    "    # zebra to horse, input  should generate the same as original input, \n",
    "    total_gen_g_loss = gen_g_loss + total_cycle_loss + identity_loss(LAMBDA, real_y, same_y)\n",
    "    total_gen_f_loss = gen_f_loss + total_cycle_loss + identity_loss(LAMBDA, real_x, same_x)\n",
    "    \n",
    "    disc_x_loss = discriminator_loss(disc_real_x, disc_fake_x) # takes in the real and fake horse, and rearrange your weights to make a real horse\n",
    "    disc_y_loss = discriminator_loss(disc_real_y, disc_fake_y) # this is what a real and fake zebra looks like, figure out how close are the weights\n",
    "  \n",
    "  # Calculate the gradients for generator and discriminator\n",
    "  # calculate the derivate and update the weights to improve \n",
    "  generator_g_gradients = tape.gradient(total_gen_g_loss,generator_g.trainable_variables)\n",
    "  generator_f_gradients = tape.gradient(total_gen_f_loss, generator_f.trainable_variables)\n",
    "  discriminator_x_gradients = tape.gradient(disc_x_loss,discriminator_x.trainable_variables)\n",
    "  discriminator_y_gradients = tape.gradient(disc_y_loss, discriminator_y.trainable_variables)\n",
    "  \n",
    " #Apply the gradients to the optimizer\n",
    "  generator_g_optimizer.apply_gradients(zip(generator_g_gradients,generator_g.trainable_variables))\n",
    "  generator_f_optimizer.apply_gradients(zip(generator_f_gradients, generator_f.trainable_variables))\n",
    "  discriminator_x_optimizer.apply_gradients(zip(discriminator_x_gradients,discriminator_x.trainable_variables))\n",
    "  discriminator_y_optimizer.apply_gradients(zip(discriminator_y_gradients,discriminator_y.trainable_variables))\n",
    "\n"
   ]
  },
  {
   "cell_type": "code",
   "execution_count": null,
   "metadata": {},
   "outputs": [],
   "source": [
    "# EPOCHS=100\n",
    "# for epoch in range(EPOCHS):\n",
    "#     start = time.time()\n",
    "#     n = 0\n",
    "#     for i in range(60):\n",
    "#         image_x=np.load(\"/home/gm3g/project/S20-team6-project/encodedArray/%d.npy\"%(i))\n",
    "#         image_y=np.load(\"/home/gm3g/project/S20-team6-project/decodedArray/%d.npy\"%(i))\n",
    "#         train_step(np.asarray([image_x/255.0], dtype='float32'), np.asarray([image_y/255.0], dtype='float32'))\n",
    "#         #train_step(image_x, image_y) # x encoded array, y decoded array\n",
    "#         if n % 10 == 0:\n",
    "#             print ('.', end='')\n",
    "#         n+=1\n",
    "\n",
    "#     clear_output(wait=True)\n",
    "#   # Using a consistent image (sample_horse) so that the progress of the model\n",
    "#   # is clearly visible.\n",
    "#     #generate_images(generator_g, sample_horse)\n",
    "    \n",
    "#     if (epoch + 1) % 5 == 0:\n",
    "#         ckpt_save_path = ckpt_manager.save()\n",
    "#         print ('Saving checkpoint for epoch {} at {}'.format(epoch+1,ckpt_save_path))\n",
    "#     print ('Time taken for epoch {} is {} sec\\n'.format(epoch + 1,time.time()-start))"
   ]
  },
  {
   "cell_type": "code",
   "execution_count": null,
   "metadata": {},
   "outputs": [],
   "source": [
    "def generate_images(model, test_input):\n",
    "    prediction = model(test_input)\n",
    "    plt.figure(figsize=(12, 12))\n",
    "    display_list = [test_input[0], prediction[0]]\n",
    "    for i in range(2):\n",
    "        plt.subplot(1, 2, i+1)\n",
    "        plt.imshow(display_list[i] * 0.5 + 0.5)\n",
    "        plt.axis('off')\n",
    "    plt.show()"
   ]
  },
  {
   "cell_type": "code",
   "execution_count": null,
   "metadata": {},
   "outputs": [],
   "source": [
    "def mse(imageA, imageB):\n",
    "    err = np.sum((imageA.astype(\"float\") - imageB.astype(\"float\")) ** 2)\n",
    "    err /= float(imageA.shape[0] * imageA.shape[1])\n",
    "    return -err"
   ]
  },
  {
   "cell_type": "code",
   "execution_count": null,
   "metadata": {},
   "outputs": [],
   "source": [
    "MAX0=11\n",
    "MAX1=6"
   ]
  },
  {
   "cell_type": "code",
   "execution_count": null,
   "metadata": {},
   "outputs": [],
   "source": [
    "def Black_Box(EPOCHS,LAMBDA,steps_per_epochs):\n",
    "   \n",
    "    \n",
    "    for epoch in trange(int(EPOCHS),desc='epochs'):\n",
    "        start = time.time()\n",
    "#         n = 0\n",
    "       # m=0\n",
    "        \n",
    "        for _ in trange(int(steps_per_epochs), desc='steps_per_epochs'):\n",
    "            i=np.random.randint(1,MAX0)\n",
    "            j= np.random.randint(1,MAX1)\n",
    "#         for i in trange(1,11):\n",
    "#             for j in trange(1,6):\n",
    "\n",
    "            image_x=np.load(\"/home/gm3g/project/S20-team6-project/encodedArray/{}_{}.npy\".format(i,j))\n",
    "            image_y=np.load(\"/home/gm3g/project/S20-team6-project/decodedArray/{}_{}.npy\".format(i,j))\n",
    "            train_step(LAMBDA,np.asarray([image_x/255.0], dtype='float32'), np.asarray([image_y/255.0], dtype='float32'))\n",
    "           # m+=1\n",
    "        #train_step(image_x, image_y) # x encoded array, y decoded array\n",
    "#         m+=1\n",
    "#     if n % 10 == 0:\n",
    "#         print ('.', end='')\n",
    "#     n+=1\n",
    "\n",
    "        #clear_output(wait=True)\n",
    "      # Using a consistent image (sample_horse) so that the progress of the model\n",
    "      # is clearly visible.\n",
    "        #generate_images(generator_g, sample_horse)\n",
    "\n",
    "#         if (epoch + 1) % 5 == 0:\n",
    "#             ckpt_save_path = ckpt_manager.save()\n",
    "#             print ('Saving checkpoint for epoch {} at {}'.format(epoch+1,ckpt_save_path))\n",
    "#         print ('Time taken for epoch {} is {} sec\\n'.format(epoch + 1,time.time()-start))\n",
    "        \n",
    "#     s_t = Sten(int(N))\n",
    "#     for _ in range(20):\n",
    "#         num = np.random.randint(0,50)\n",
    "#         encoded = np.load(os.getcwd() + \"/encodedArray/{0}.npy\".format(num))\n",
    "#         decoded = np.load(os.getcwd() + \"/decodedArray/{0}.npy\".format(num))   \n",
    "#         generate_images(generator_g, np.asarray([encoded/255.0], dtype='float32'))\n",
    "        \n",
    "        \n",
    "    sum = 0.0\n",
    "    for i in trange(1,MAX0):\n",
    "        for j in trange(1,MAX1):\n",
    "            image_x=np.load(\"/home/gm3g/project/S20-team6-project/encodedArray/{}_{}.npy\".format(i,j))\n",
    "            image_y=np.load(\"/home/gm3g/project/S20-team6-project/decodedArray/{}_{}.npy\".format(i,j))\n",
    "\n",
    "            sum += mse(generator_g.predict(np.asarray([image_x/255.0], dtype='float32')), np.asarray([image_y/255.0], dtype='float32'))\n",
    "    avg = sum / ((MAX0-1)*(MAX1-1))\n",
    "\n",
    "    return avg\n",
    "\n",
    "    \n",
    "     "
   ]
  },
  {
   "cell_type": "code",
   "execution_count": null,
   "metadata": {},
   "outputs": [],
   "source": [
    "bounds={'EPOCHS':(200,500),\n",
    "        'LAMBDA':(8,12),\n",
    "       'steps_per_epochs':(10,50)\n",
    "       }\n"
   ]
  },
  {
   "cell_type": "code",
   "execution_count": null,
   "metadata": {},
   "outputs": [],
   "source": [
    "optimizer = BayesianOptimization(\n",
    "    f=Black_Box,\n",
    "    pbounds=bounds,\n",
    "    random_state=1\n",
    ")\n",
    "# from bayes_opt.util import load_logs\n",
    "# load_logs(new_optimizer, logs=[\"./logs.json\"])\n",
    "# #optimizer.maximize(n_iter=10)"
   ]
  },
  {
   "cell_type": "code",
   "execution_count": null,
   "metadata": {
    "scrolled": true
   },
   "outputs": [],
   "source": [
    "logger = JSONLogger(path=\"./logs.json\")\n",
    "optimizer.subscribe(Events.OPTIMIZATION_STEP, logger)\n",
    "\n",
    "# Results will be saved in ./logs.json\n",
    "optimizer.maximize(init_points=2,n_iter=10)"
   ]
  },
  {
   "cell_type": "code",
   "execution_count": null,
   "metadata": {},
   "outputs": [],
   "source": [
    "# from bayes_opt.util import load_logs\n",
    "\n",
    "\n",
    "# # new_optimizer = BayesianOptimization(\n",
    "# #     f=black_box_function,\n",
    "# #     pbounds={\"x\": (-2, 2), \"y\": (-2, 2)},\n",
    "# #     verbose=2,\n",
    "# #     random_state=7,\n",
    "# # )\n",
    "\n",
    "# # New optimizer is loaded with previously seen points\n",
    "# load_logs(new_optimizer, logs=[\"./logs.json\"])"
   ]
  },
  {
   "cell_type": "code",
   "execution_count": null,
   "metadata": {},
   "outputs": [],
   "source": [
    "# s_t = Sten(7)\n",
    "# for _ in range(20):\n",
    "#     num = np.random.randint(0,50)\n",
    "#     encoded = np.load(os.getcwd() + \"/encodedArray/{0}.npy\".format(num))\n",
    "#     decoded = np.load(os.getcwd() + \"/decodedArray/{0}.npy\".format(num))   \n",
    "#     generate_images(generator_g, np.asarray([encoded/255.0], dtype='float32'))"
   ]
  },
  {
   "cell_type": "code",
   "execution_count": null,
   "metadata": {},
   "outputs": [],
   "source": []
  },
  {
   "cell_type": "code",
   "execution_count": null,
   "metadata": {},
   "outputs": [],
   "source": []
  }
 ],
 "metadata": {
  "kernelspec": {
   "display_name": "Python 3",
   "language": "python",
   "name": "python3"
  },
  "language_info": {
   "codemirror_mode": {
    "name": "ipython",
    "version": 3
   },
   "file_extension": ".py",
   "mimetype": "text/x-python",
   "name": "python",
   "nbconvert_exporter": "python",
   "pygments_lexer": "ipython3",
   "version": "3.7.6"
  }
 },
 "nbformat": 4,
 "nbformat_minor": 4
}
